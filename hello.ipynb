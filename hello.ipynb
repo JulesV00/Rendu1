{
 "cells": [
  {
   "cell_type": "markdown",
   "metadata": {},
   "source": [
    "# 1. **Markdown**\n",
    "*Accessible dans l'onglet README.md*"
   ]
  },
  {
   "cell_type": "markdown",
   "metadata": {},
   "source": [
    "# 2. **Affichage d'un tableau**"
   ]
  },
  {
   "cell_type": "code",
   "execution_count": 21,
   "metadata": {},
   "outputs": [
    {
     "name": "stdout",
     "output_type": "stream",
     "text": [
      "Produit | Nombre d'unités | Prix Unitaire | Prix total\n",
      "------------------------------------------------------\n",
      "Stylo   |        5        |     1,20€     |     6€\n",
      "------------------------------------------------------\n",
      "Cahier  |        2        |     3,50€     |     7€\n",
      "------------------------------------------------------\n",
      "TOTAL   |        7        |       /       |     13€\n"
     ]
    }
   ],
   "source": [
    "System.out.println (\"Produit | Nombre d'unités | Prix Unitaire | Prix total\");\n",
    "System.out.println (\"------------------------------------------------------\");\n",
    "System.out.println (\"Stylo   |        5        |     1,20€     |     6€\");\n",
    "System.out.println (\"------------------------------------------------------\");\n",
    "System.out.println (\"Cahier  |        2        |     3,50€     |     7€\");\n",
    "System.out.println (\"------------------------------------------------------\");\n",
    "System.out.println (\"TOTAL   |        7        |       /       |     13€\");"
   ]
  },
  {
   "cell_type": "markdown",
   "metadata": {},
   "source": [
    "# 3. **Affichage de variables**"
   ]
  },
  {
   "cell_type": "code",
   "execution_count": 22,
   "metadata": {},
   "outputs": [],
   "source": [
    "String nomProduit1 = \"Stylo\";\n",
    "int quantite1 = 5;\n",
    "double prixUnitaire1 = 1.2;\n",
    "char devise = '€';\n",
    "String nomProduit2 = \"Cahier\";\n",
    "int quantite2 = 2;\n",
    "double prixUnitaire2 = 3.50;\n",
    "double total = prixUnitaire1*quantite1+prixUnitaire2*quantite2;"
   ]
  },
  {
   "cell_type": "code",
   "execution_count": 62,
   "metadata": {},
   "outputs": [
    {
     "name": "stdout",
     "output_type": "stream",
     "text": [
      "Stylo: 5 unités(s) \n",
      "Stylo: 1.20(€) prix unitaire \n",
      "Cahier: 2 unités(s) \n",
      "Cahier: 3.50(€) prix unitaire \n",
      "Total: 13.00(€) \n"
     ]
    },
    {
     "data": {
      "text/plain": [
       "java.io.PrintStream@1f161286"
      ]
     },
     "execution_count": 62,
     "metadata": {},
     "output_type": "execute_result"
    }
   ],
   "source": [
    "System.out.printf(\"%s: %d unités(s) \\n\", \"Stylo\", 5);\n",
    "String nomProduit1 = \"Stylo\";\n",
    "int quantite1 = 5;\n",
    "System.out.printf(\"%s: %2.2f(€) prix unitaire \\n\", \"Stylo\", 1.2);\n",
    "double prixUnitaire1 = 1.2;\n",
    "char devise = '€';\n",
    "System.out.printf(\"%s: %d unités(s) \\n\", \"Cahier\", 2);\n",
    "String nomProduit2 = \"Cahier\";\n",
    "int quantite2 = 2;\n",
    "System.out.printf(\"%s: %2.2f(€) prix unitaire \\n\", \"Cahier\", 3.5);\n",
    "double prixUnitaire2 = 3.50;\n",
    "double Total = prixUnitaire1*quantite1+prixUnitaire2*quantite2;\n",
    "System.out.printf(\"%s: %5.2f(€) \\n\", \"Total\", prixUnitaire1*quantite1+prixUnitaire2*quantite2);"
   ]
  },
  {
   "cell_type": "code",
   "execution_count": 95,
   "metadata": {},
   "outputs": [
    {
     "name": "stdout",
     "output_type": "stream",
     "text": [
      "Produit          | Nombre d'unités | Prix Unitaire | Prix total\n",
      "---------------------------------------------------------------\n",
      "Stylo            |         4       |     1,20€     |     6€\n",
      "---------------------------------------------------------------\n",
      "Cahier           |         5       |     3,50€     |     7€\n",
      "---------------------------------------------------------------\n",
      "TOTAL            |         7       |       /       |     13€\n"
     ]
    }
   ],
   "source": [
    "System.out.println (\"Produit          | Nombre d'unités | Prix Unitaire | Prix total\");\n",
    "System.out.println (\"---------------------------------------------------------------\");\n",
    "System.out.printf (\"%-15s  |       %3d       |     1,20€     |     6€\\n\", nomProduit1, quantite1);\n",
    "System.out.println (\"---------------------------------------------------------------\");\n",
    "System.out.printf (\"%-15s  |       %3d       |     3,50€     |     7€\\n\", nomProduit2, quantite2);\n",
    "System.out.println (\"---------------------------------------------------------------\");\n",
    "System.out.println (\"TOTAL            |         7       |       /       |     13€\");"
   ]
  },
  {
   "cell_type": "markdown",
   "metadata": {},
   "source": [
    "# 4. **Saisie des informations**"
   ]
  },
  {
   "cell_type": "code",
   "execution_count": 96,
   "metadata": {},
   "outputs": [
    {
     "name": "stdout",
     "output_type": "stream",
     "text": [
      "Votre Prénom et Nom : "
     ]
    },
    {
     "name": "stdout",
     "output_type": "stream",
     "text": [
      "Bonjour Jules Vachette\n",
      "Quantité de stylo souhaité: \n",
      "2 Stylo(s)\n",
      "Quantité de cahier souhaité: \n",
      "4 Cahier(s)\n"
     ]
    }
   ],
   "source": [
    "String message = \"Hello\";\n",
    "Scanner clavier = new Scanner (System.in);\n",
    "String saisie;\n",
    "\n",
    "System.out.print(\"Votre Prénom et Nom : \");\n",
    "saisie = clavier.nextLine (); // Attend que l'utilisateur tape sur un texte\n",
    "System.out.print(\"Bonjour \");\n",
    "System.out.println(saisie);\n",
    "\n",
    "\n",
    "System.out.println(\"Quantité de stylo souhaité: \");\n",
    "saisie = clavier.nextLine (); // Quantités stylo renseignées par l'utilisateur\n",
    "System.out.print(saisie);\n",
    "System.out.println(\" Stylo(s)\");\n",
    "\n",
    "System.out.println(\"Quantité de cahier souhaité: \");\n",
    "saisie = clavier.nextLine (); // Quantités cahier renseignées par l'utilisateur;\n",
    "System.out.print(saisie);\n",
    "System.out.println(\" Cahier(s)\");"
   ]
  },
  {
   "cell_type": "markdown",
   "metadata": {},
   "source": [
    "# **BONUS**"
   ]
  },
  {
   "cell_type": "code",
   "execution_count": 83,
   "metadata": {},
   "outputs": [
    {
     "name": "stdout",
     "output_type": "stream",
     "text": [
      "Votre Prénom et Nom : "
     ]
    },
    {
     "name": "stdout",
     "output_type": "stream",
     "text": [
      "Bonjour jules\n",
      "Quantité de stylo souhaité: \n",
      "4 Stylo(s)\n",
      "Quantité de cahier souhaité: \n",
      "5 Cahier(s)\n",
      "Total: 22.30(€) \n"
     ]
    },
    {
     "data": {
      "text/plain": [
       "java.io.PrintStream@4293819e"
      ]
     },
     "execution_count": 83,
     "metadata": {},
     "output_type": "execute_result"
    }
   ],
   "source": [
    "Scanner clavier = new Scanner (System.in);\n",
    "String saisie;\n",
    "\n",
    "System.out.print(\"Votre Prénom et Nom : \");\n",
    "saisie = clavier.nextLine (); // Attend que l'utilisateur tape sur un texte\n",
    "System.out.print(\"Bonjour \");\n",
    "System.out.println(saisie);\n",
    "\n",
    "int quantite1, quantite2;\n",
    "\n",
    "System.out.println(\"Quantité de stylo souhaité: \");\n",
    "quantite1 = clavier.nextInt(); // Quantités stylo renseignées par l'utilisateur\n",
    "System.out.print(quantite1);\n",
    "double prixUnitaire1 = 1.2;\n",
    "System.out.println(\" Stylo(s)\");\n",
    "\n",
    "System.out.println(\"Quantité de cahier souhaité: \");\n",
    "quantite2 = clavier.nextInt (); // Quantités cahier renseignées par l'utilisateur;\n",
    "System.out.print(quantite2); \n",
    "double prixUnitaire2 = 3.50;\n",
    "System.out.println(\" Cahier(s)\");\n",
    "\n",
    "double Total = prixUnitaire1*quantite1+prixUnitaire2*quantite2;\n",
    "System.out.printf(\"%s: %5.2f(€) \\n\", \"Total\", prixUnitaire1*quantite1+prixUnitaire2*quantite2);"
   ]
  }
 ],
 "metadata": {
  "kernelspec": {
   "display_name": "Java (rjk 2.2.0)",
   "language": "java",
   "name": "rapaio-jupyter-kernel"
  },
  "language_info": {
   "codemirror_mode": "java",
   "file_extension": ".jshell",
   "mimetype": "text/x-java-source",
   "name": "java",
   "nbconvert_exporter": "script",
   "pygments_lexer": "java",
   "version": "21.0.5+11-LTS"
  }
 },
 "nbformat": 4,
 "nbformat_minor": 2
}
